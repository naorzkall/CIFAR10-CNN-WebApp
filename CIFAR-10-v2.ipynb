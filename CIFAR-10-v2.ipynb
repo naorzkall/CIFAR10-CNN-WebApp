{
 "cells": [
  {
   "cell_type": "code",
   "execution_count": 1,
   "id": "4107312d",
   "metadata": {},
   "outputs": [
    {
     "name": "stdout",
     "output_type": "stream",
     "text": [
      "WARNING:tensorflow:From C:\\Users\\ACER\\anaconda3\\Lib\\site-packages\\keras\\src\\losses.py:2976: The name tf.losses.sparse_softmax_cross_entropy is deprecated. Please use tf.compat.v1.losses.sparse_softmax_cross_entropy instead.\n",
      "\n"
     ]
    }
   ],
   "source": [
    "import tensorflow as tf\n",
    "import keras\n",
    "from tensorflow import keras\n",
    "from tensorflow.keras import layers\n",
    "import numpy as np\n",
    "import matplotlib.pyplot as plt\n",
    "from tensorflow.keras.datasets import cifar10\n",
    "from tensorflow.keras import utils\n",
    "from keras import backend as K"
   ]
  },
  {
   "cell_type": "code",
   "execution_count": 2,
   "id": "02e8b2c2",
   "metadata": {},
   "outputs": [],
   "source": [
    "NUM_CLASSES = 10\n",
    "cifar10_classes = [\"airplane\", \"automobile\", \"bird\", \"cat\", \"deer\",\n",
    "                   \"dog\", \"frog\", \"horse\", \"ship\", \"truck\"]"
   ]
  },
  {
   "cell_type": "code",
   "execution_count": 3,
   "id": "7b22360d",
   "metadata": {},
   "outputs": [],
   "source": [
    "(x_train, y_train), (x_test, y_test) = cifar10.load_data()"
   ]
  },
  {
   "cell_type": "markdown",
   "id": "b6a04123",
   "metadata": {},
   "source": [
    "We need to normalize inputs like this: $$x_{norm} = \\frac{x}{255} - 0.5$$\n",
    "\n",
    "We need to convert class labels to one-hot encoded vectors. Use __keras.utils.to_categorical__."
   ]
  },
  {
   "cell_type": "code",
   "execution_count": 4,
   "id": "a04f31ab",
   "metadata": {},
   "outputs": [],
   "source": [
    "# normalize inputs\n",
    "x_train2 = (x_train / 255) - 0.5\n",
    "x_test2 = (x_test / 255) - 0.5\n",
    "# convert class labels to one-hot encoded, should have shape (?, NUM_CLASSES)\n",
    "y_train2 = keras.utils.to_categorical(y_train, NUM_CLASSES)\n",
    "y_test2 = keras.utils.to_categorical(y_test, NUM_CLASSES)"
   ]
  },
  {
   "cell_type": "code",
   "execution_count": 5,
   "id": "ab9fee75",
   "metadata": {},
   "outputs": [
    {
     "name": "stdout",
     "output_type": "stream",
     "text": [
      "WARNING:tensorflow:From C:\\Users\\ACER\\anaconda3\\Lib\\site-packages\\keras\\src\\backend.py:873: The name tf.get_default_graph is deprecated. Please use tf.compat.v1.get_default_graph instead.\n",
      "\n",
      "WARNING:tensorflow:From C:\\Users\\ACER\\anaconda3\\Lib\\site-packages\\keras\\src\\layers\\pooling\\max_pooling2d.py:161: The name tf.nn.max_pool is deprecated. Please use tf.nn.max_pool2d instead.\n",
      "\n"
     ]
    }
   ],
   "source": [
    "model=tf.keras.Sequential([tf.keras.layers.Conv2D(16, (3, 3), input_shape=(32, 32, 3), padding='same'),\n",
    "                           tf.keras.layers.LeakyReLU(0.1),\n",
    "                           tf.keras.layers.Conv2D(32, (3, 3), padding='same'),\n",
    "                           tf.keras.layers.LeakyReLU(0.1),\n",
    "                           tf.keras.layers.MaxPooling2D((2,2)),\n",
    "                           tf.keras.layers.Dropout(0.25),\n",
    "                           tf.keras.layers.Conv2D(32, (3, 3), padding='same'),\n",
    "                           tf.keras.layers.LeakyReLU(0.1),\n",
    "                           tf.keras.layers.Conv2D(64, (3, 3), padding='same'),\n",
    "                           tf.keras.layers.LeakyReLU(0.1),\n",
    "                           tf.keras.layers.MaxPooling2D((2,2)),\n",
    "                           tf.keras.layers.Dropout(0.25),\n",
    "                           tf.keras.layers.Flatten(),\n",
    "                           tf.keras.layers.Dense(256,activation='relu'),\n",
    "                           tf.keras.layers.LeakyReLU(0.1),\n",
    "                           tf.keras.layers.Dropout(0.5),\n",
    "                           tf.keras.layers.Dense(10,activation='softmax'),\n",
    "])"
   ]
  },
  {
   "cell_type": "code",
   "execution_count": 6,
   "id": "a0444b23",
   "metadata": {},
   "outputs": [
    {
     "name": "stderr",
     "output_type": "stream",
     "text": [
      "WARNING:absl:`lr` is deprecated in Keras optimizer, please use `learning_rate` or use the legacy optimizer, e.g.,tf.keras.optimizers.legacy.Adamax.\n"
     ]
    }
   ],
   "source": [
    "from tensorflow.keras.optimizers import Adamax\n",
    "\n",
    "INIT_LR = 5e-3  # initial learning rate\n",
    "BATCH_SIZE = 32\n",
    "EPOCHS = 10\n",
    "\n",
    "model.compile(\n",
    "    loss='categorical_crossentropy',\n",
    "    optimizer=Adamax(lr=INIT_LR),\n",
    "    metrics=['accuracy']\n",
    ")\n",
    "# scheduler of learning rate (decay with epochs)\n",
    "def lr_scheduler(epoch):\n",
    "    return INIT_LR * 0.9 ** epoch\n",
    "\n",
    "# callback for printing of actual learning rate used by optimizer\n",
    "class LrHistory(keras.callbacks.Callback):\n",
    "    def on_epoch_begin(self, epoch, logs={}):\n",
    "        print(\"Learning rate:\", K.get_value(model.optimizer.lr))\n",
    "        "
   ]
  },
  {
   "cell_type": "code",
   "execution_count": 9,
   "id": "87ac5a76",
   "metadata": {},
   "outputs": [],
   "source": [
    "# we will save model checkpoints to continue training in case of kernel death\n",
    "model_filename = 'cifar.{0:03d}.hdf5'\n",
    "last_finished_epoch = None"
   ]
  },
  {
   "cell_type": "code",
   "execution_count": 11,
   "id": "b6286ae9",
   "metadata": {},
   "outputs": [
    {
     "name": "stdout",
     "output_type": "stream",
     "text": [
      "Learning rate: 0.005\n",
      "Epoch 1/10\n",
      "1563/1563 [==============================] - 77s 49ms/step - loss: 0.8956 - accuracy: 0.6867 - val_loss: 0.7907 - val_accuracy: 0.7299 - lr: 0.0050\n",
      "Learning rate: 0.0045\n",
      "Epoch 2/10\n",
      "1563/1563 [==============================] - 77s 49ms/step - loss: 0.7913 - accuracy: 0.7241 - val_loss: 0.7389 - val_accuracy: 0.7405 - lr: 0.0045\n",
      "Learning rate: 0.00405\n",
      "Epoch 3/10\n",
      "1563/1563 [==============================] - 77s 49ms/step - loss: 0.7094 - accuracy: 0.7508 - val_loss: 0.6981 - val_accuracy: 0.7639 - lr: 0.0041\n",
      "Learning rate: 0.003645\n",
      "Epoch 4/10\n",
      "1563/1563 [==============================] - 76s 49ms/step - loss: 0.6522 - accuracy: 0.7713 - val_loss: 0.6743 - val_accuracy: 0.7683 - lr: 0.0036\n",
      "Learning rate: 0.0032805\n",
      "Epoch 5/10\n",
      "1563/1563 [==============================] - 78s 50ms/step - loss: 0.6026 - accuracy: 0.7897 - val_loss: 0.6512 - val_accuracy: 0.7818 - lr: 0.0033\n",
      "Learning rate: 0.00295245\n",
      "Epoch 6/10\n",
      "1563/1563 [==============================] - 77s 49ms/step - loss: 0.5542 - accuracy: 0.8063 - val_loss: 0.6251 - val_accuracy: 0.7863 - lr: 0.0030\n",
      "Learning rate: 0.002657205\n",
      "Epoch 7/10\n",
      "1563/1563 [==============================] - 77s 49ms/step - loss: 0.5151 - accuracy: 0.8180 - val_loss: 0.6386 - val_accuracy: 0.7796 - lr: 0.0027\n",
      "Learning rate: 0.0023914846\n",
      "Epoch 8/10\n",
      "1563/1563 [==============================] - 77s 49ms/step - loss: 0.4943 - accuracy: 0.8280 - val_loss: 0.6139 - val_accuracy: 0.7975 - lr: 0.0024\n",
      "Learning rate: 0.002152336\n",
      "Epoch 9/10\n",
      "1563/1563 [==============================] - 76s 49ms/step - loss: 0.4577 - accuracy: 0.8392 - val_loss: 0.6072 - val_accuracy: 0.7987 - lr: 0.0022\n",
      "Learning rate: 0.0019371024\n",
      "Epoch 10/10\n",
      "1563/1563 [==============================] - 76s 49ms/step - loss: 0.4366 - accuracy: 0.8479 - val_loss: 0.6294 - val_accuracy: 0.7980 - lr: 0.0019\n"
     ]
    },
    {
     "data": {
      "text/plain": [
       "<keras.src.callbacks.History at 0x1fdab40d4d0>"
      ]
     },
     "execution_count": 11,
     "metadata": {},
     "output_type": "execute_result"
    }
   ],
   "source": [
    "# fit model\n",
    "model.fit(\n",
    "    x_train2, y_train2,  # prepared data\n",
    "    batch_size=BATCH_SIZE,\n",
    "    epochs=EPOCHS,\n",
    "    callbacks=[keras.callbacks.LearningRateScheduler(lr_scheduler),\n",
    "               LrHistory()\n",
    "#                ,utils.TqdmProgressCallback(),\n",
    "#                utils.ModelSaveCallback(model_filename)\n",
    "              ],\n",
    "    validation_data=(x_test2, y_test2),\n",
    "    shuffle=True,\n",
    "    verbose=1,\n",
    "    initial_epoch=last_finished_epoch or 0\n",
    ")"
   ]
  },
  {
   "cell_type": "code",
   "execution_count": 12,
   "id": "81eb98d2",
   "metadata": {},
   "outputs": [
    {
     "name": "stdout",
     "output_type": "stream",
     "text": [
      "313/313 [==============================] - 4s 14ms/step - loss: 0.6294 - accuracy: 0.7980\n"
     ]
    },
    {
     "data": {
      "text/plain": [
       "[0.6294237375259399, 0.7979999780654907]"
      ]
     },
     "execution_count": 12,
     "metadata": {},
     "output_type": "execute_result"
    }
   ],
   "source": [
    "model.evaluate(x_test2,y_test2)"
   ]
  },
  {
   "cell_type": "code",
   "execution_count": 13,
   "id": "3bd587b6",
   "metadata": {},
   "outputs": [],
   "source": [
    "model.save('cnn_model_v2.keras')"
   ]
  },
  {
   "cell_type": "code",
   "execution_count": 14,
   "id": "cc2ec950",
   "metadata": {},
   "outputs": [],
   "source": [
    "loaded_model = tf.keras.models.load_model('cnn_model_v2.keras')"
   ]
  },
  {
   "cell_type": "code",
   "execution_count": 20,
   "id": "2319d519",
   "metadata": {},
   "outputs": [
    {
     "name": "stdout",
     "output_type": "stream",
     "text": [
      "1/1 [==============================] - 0s 27ms/step\n",
      "[[0. 0. 0. 0. 0. 0. 0. 1. 0. 0.]]\n",
      "Output Label: 7\n",
      "horse\n",
      "[7]\n"
     ]
    },
    {
     "data": {
      "image/png": "[encoded data removed]",
      "text/plain": [
       "<Figure size 640x480 with 1 Axes>"
      ]
     },
     "metadata": {},
     "output_type": "display_data"
    }
   ],
   "source": [
    "ar = 60\n",
    "plt.imshow(x_test[ar])\n",
    "\n",
    "labels = [\"airplane\",\"automobile\", \"bird\", \"cat\", \"deer\",\"dog\", \"frog\", \"horse\", \"ship\", \"truck\"]\n",
    "import cv2\n",
    "\n",
    "resized_img = cv2.resize(x_test[ar], (32,32))\n",
    "resized_img= np.expand_dims(resized_img, axis=0)\n",
    "\n",
    "pre=loaded_model.predict(resized_img)\n",
    "print(pre)\n",
    "n = np.argmax(pre)                                                     \n",
    "\n",
    "print(\"Output Label:\", n)\n",
    "print(labels[n])\n",
    "print(y_test[ar])"
   ]
  },
  {
   "cell_type": "code",
   "execution_count": null,
   "id": "07ceab08",
   "metadata": {},
   "outputs": [],
   "source": []
  }
 ],
 "metadata": {
  "kernelspec": {
   "display_name": "Python 3 (ipykernel)",
   "language": "python",
   "name": "python3"
  },
  "language_info": {
   "codemirror_mode": {
    "name": "ipython",
    "version": 3
   },
   "file_extension": ".py",
   "mimetype": "text/x-python",
   "name": "python",
   "nbconvert_exporter": "python",
   "pygments_lexer": "ipython3",
   "version": "3.11.5"
  },
  "varInspector": {
   "cols": {
    "lenName": 16,
    "lenType": 16,
    "lenVar": 40
   },
   "kernels_config": {
    "python": {
     "delete_cmd_postfix": "",
     "delete_cmd_prefix": "del ",
     "library": "var_list.py",
     "varRefreshCmd": "print(var_dic_list())"
    },
    "r": {
     "delete_cmd_postfix": ") ",
     "delete_cmd_prefix": "rm(",
     "library": "var_list.r",
     "varRefreshCmd": "cat(var_dic_list()) "
    }
   },
   "types_to_exclude": [
    "module",
    "function",
    "builtin_function_or_method",
    "instance",
    "_Feature"
   ],
   "window_display": false
  }
 },
 "nbformat": 4,
 "nbformat_minor": 5
}
