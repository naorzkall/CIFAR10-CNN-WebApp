{
 "cells": [
  {
   "cell_type": "code",
   "execution_count": 1,
   "id": "d581c4d0",
   "metadata": {},
   "outputs": [
    {
     "name": "stdout",
     "output_type": "stream",
     "text": [
      "WARNING:tensorflow:From C:\\Users\\ACER\\anaconda3\\Lib\\site-packages\\keras\\src\\losses.py:2976: The name tf.losses.sparse_softmax_cross_entropy is deprecated. Please use tf.compat.v1.losses.sparse_softmax_cross_entropy instead.\n",
      "\n"
     ]
    }
   ],
   "source": [
    "import tensorflow as tf\n",
    "from tensorflow import keras\n",
    "from tensorflow.keras import layers\n",
    "import numpy as np\n",
    "import matplotlib.pyplot as plt\n",
    "from tensorflow.keras.datasets import cifar10\n",
    "from keras.callbacks import EarlyStopping\n",
    "from tensorflow.keras.optimizers import Adam\n",
    "from tensorflow.keras.callbacks import LearningRateScheduler"
   ]
  },
  {
   "cell_type": "code",
   "execution_count": 2,
   "id": "4ac3a845",
   "metadata": {},
   "outputs": [],
   "source": [
    "(x_train, y_train), (x_test, y_test) = cifar10.load_data()"
   ]
  },
  {
   "cell_type": "code",
   "execution_count": 3,
   "id": "217df1e6",
   "metadata": {},
   "outputs": [],
   "source": [
    "x_train = np.array(x_train,dtype=np.float32)\n",
    "y_train = np.array(y_train, dtype=np.float32)\n",
    "x_test = np.array(x_test,dtype=np.float32)\n",
    "y_test = np.array(y_test, dtype=np.float32)\n",
    "x_train = x_train/ 255                                     \n",
    "x_test = x_test/ 255"
   ]
  },
  {
   "cell_type": "code",
   "execution_count": 4,
   "id": "156f4e71",
   "metadata": {},
   "outputs": [
    {
     "name": "stdout",
     "output_type": "stream",
     "text": [
      "WARNING:tensorflow:From C:\\Users\\ACER\\anaconda3\\Lib\\site-packages\\keras\\src\\backend.py:873: The name tf.get_default_graph is deprecated. Please use tf.compat.v1.get_default_graph instead.\n",
      "\n",
      "WARNING:tensorflow:From C:\\Users\\ACER\\anaconda3\\Lib\\site-packages\\keras\\src\\layers\\pooling\\max_pooling2d.py:161: The name tf.nn.max_pool is deprecated. Please use tf.nn.max_pool2d instead.\n",
      "\n"
     ]
    }
   ],
   "source": [
    "model=tf.keras.Sequential([tf.keras.layers.Conv2D(16, (3, 3), input_shape=(32, 32, 3), padding='same'),\n",
    "                           tf.keras.layers.LeakyReLU(0.1),\n",
    "                           tf.keras.layers.Conv2D(32, (3, 3), padding='same'),\n",
    "                           tf.keras.layers.LeakyReLU(0.1),\n",
    "                           tf.keras.layers.MaxPooling2D((2,2)),\n",
    "                           tf.keras.layers.Dropout(0.25),\n",
    "                           tf.keras.layers.Conv2D(32, (3, 3), padding='same'),\n",
    "                           tf.keras.layers.LeakyReLU(0.1),\n",
    "                           tf.keras.layers.Conv2D(64, (3, 3), padding='same'),\n",
    "                           tf.keras.layers.LeakyReLU(0.1),\n",
    "                           tf.keras.layers.MaxPooling2D((2,2)),\n",
    "                           tf.keras.layers.Conv2D(128, (3, 3), padding='same'),\n",
    "                           tf.keras.layers.LeakyReLU(0.1),\n",
    "                           tf.keras.layers.MaxPooling2D((2,2)),                           \n",
    "                           tf.keras.layers.Dropout(0.25),\n",
    "                           tf.keras.layers.Flatten(),\n",
    "                           tf.keras.layers.Dense(256,activation='relu'),\n",
    "                           tf.keras.layers.Dropout(0.5),\n",
    "                           tf.keras.layers.Dense(32,activation='relu'),\n",
    "                           tf.keras.layers.Dense(10,activation='softmax'),\n",
    "])"
   ]
  },
  {
   "cell_type": "code",
   "execution_count": 5,
   "id": "3fb7b199",
   "metadata": {},
   "outputs": [],
   "source": [
    "from tensorflow.keras.callbacks import Callback\n",
    "\n",
    "# Define a custom callback to modify the learning rate\n",
    "class LearningRateScheduler(Callback):\n",
    "    def __init__(self, initial_lr, decay_steps, decay_rate):\n",
    "        super().__init__()\n",
    "        self.initial_lr = initial_lr\n",
    "        self.decay_steps = decay_steps\n",
    "        self.decay_rate = decay_rate\n",
    "\n",
    "    def on_epoch_end(self, epoch, logs=None):\n",
    "        if (epoch + 1) % self.decay_steps == 0:\n",
    "            new_lr = self.initial_lr * self.decay_rate\n",
    "            tf.keras.backend.set_value(self.model.optimizer.lr, new_lr)\n",
    "            print(f\"Learning rate set to {new_lr} at the end of epoch {epoch + 1}\")\n",
    "\n",
    "# Define the initial learning rate\n",
    "initial_learning_rate = 0.001\n",
    "\n",
    "# Define the decay steps (every 5 epochs)\n",
    "decay_steps = 5\n",
    "\n",
    "# Define the decay rate\n",
    "decay_rate = 0.1\n",
    "\n",
    "# Create an Adam optimizer\n",
    "optimizer = Adam(learning_rate=initial_learning_rate)\n",
    "\n",
    "# Compile the model\n",
    "model.compile(\n",
    "    optimizer=Adam(learning_rate=initial_learning_rate),\n",
    "    loss='sparse_categorical_crossentropy',\n",
    "    metrics=['accuracy']\n",
    ")\n",
    "\n",
    "# Create the custom callback\n",
    "lr_scheduler = LearningRateScheduler(initial_lr=initial_learning_rate, decay_steps=decay_steps, decay_rate=decay_rate)\n",
    "\n",
    "# Train the model\n",
    "# history = model.fit(train_arr, train_label_arr, epochs=50, callbacks=[lr_scheduler])"
   ]
  },
  {
   "cell_type": "code",
   "execution_count": 6,
   "id": "214ce164",
   "metadata": {},
   "outputs": [
    {
     "name": "stdout",
     "output_type": "stream",
     "text": [
      "Epoch 1/15\n",
      "WARNING:tensorflow:From C:\\Users\\ACER\\anaconda3\\Lib\\site-packages\\keras\\src\\utils\\tf_utils.py:492: The name tf.ragged.RaggedTensorValue is deprecated. Please use tf.compat.v1.ragged.RaggedTensorValue instead.\n",
      "\n",
      "WARNING:tensorflow:From C:\\Users\\ACER\\anaconda3\\Lib\\site-packages\\keras\\src\\engine\\base_layer_utils.py:384: The name tf.executing_eagerly_outside_functions is deprecated. Please use tf.compat.v1.executing_eagerly_outside_functions instead.\n",
      "\n",
      "1563/1563 [==============================] - 46s 29ms/step - loss: 1.5457 - accuracy: 0.4293\n",
      "Epoch 2/15\n",
      "1563/1563 [==============================] - 45s 29ms/step - loss: 1.0709 - accuracy: 0.6197\n",
      "Epoch 3/15\n",
      "1563/1563 [==============================] - 46s 29ms/step - loss: 0.9030 - accuracy: 0.6855\n",
      "Epoch 4/15\n",
      "1563/1563 [==============================] - 45s 29ms/step - loss: 0.8037 - accuracy: 0.7206\n",
      "Epoch 5/15\n",
      "1561/1563 [============================>.] - ETA: 0s - loss: 0.7292 - accuracy: 0.7458Learning rate set to 0.0001 at the end of epoch 5\n",
      "1563/1563 [==============================] - 47s 30ms/step - loss: 0.7292 - accuracy: 0.7458\n",
      "Epoch 6/15\n",
      "1563/1563 [==============================] - 46s 30ms/step - loss: 0.5751 - accuracy: 0.7978\n",
      "Epoch 7/15\n",
      "1563/1563 [==============================] - 46s 30ms/step - loss: 0.5356 - accuracy: 0.8123\n",
      "Epoch 8/15\n",
      "1563/1563 [==============================] - 48s 31ms/step - loss: 0.5088 - accuracy: 0.8210\n",
      "Epoch 9/15\n",
      "1563/1563 [==============================] - 47s 30ms/step - loss: 0.4949 - accuracy: 0.8256\n",
      "Epoch 10/15\n",
      "1561/1563 [============================>.] - ETA: 0s - loss: 0.4809 - accuracy: 0.8321Learning rate set to 0.0001 at the end of epoch 10\n",
      "1563/1563 [==============================] - 47s 30ms/step - loss: 0.4808 - accuracy: 0.8321\n",
      "Epoch 11/15\n",
      "1563/1563 [==============================] - 46s 30ms/step - loss: 0.4695 - accuracy: 0.8326\n",
      "Epoch 12/15\n",
      "1563/1563 [==============================] - 47s 30ms/step - loss: 0.4589 - accuracy: 0.8381\n",
      "Epoch 13/15\n",
      "1563/1563 [==============================] - 47s 30ms/step - loss: 0.4508 - accuracy: 0.8414\n",
      "Epoch 14/15\n",
      "1563/1563 [==============================] - 45s 29ms/step - loss: 0.4388 - accuracy: 0.8445\n",
      "Epoch 15/15\n",
      "1562/1563 [============================>.] - ETA: 0s - loss: 0.4306 - accuracy: 0.8488Learning rate set to 0.0001 at the end of epoch 15\n",
      "1563/1563 [==============================] - 46s 30ms/step - loss: 0.4305 - accuracy: 0.8488\n"
     ]
    }
   ],
   "source": [
    "model_history = model.fit(\n",
    "    x_train, y_train,\n",
    "    epochs=15,\n",
    "    callbacks=[lr_scheduler],\n",
    "    verbose=1\n",
    ")"
   ]
  },
  {
   "cell_type": "code",
   "execution_count": 7,
   "id": "169c3c0b",
   "metadata": {},
   "outputs": [
    {
     "name": "stdout",
     "output_type": "stream",
     "text": [
      "313/313 [==============================] - 2s 7ms/step - loss: 0.5613 - accuracy: 0.8136\n"
     ]
    },
    {
     "data": {
      "text/plain": [
       "[0.5613387227058411, 0.8136000037193298]"
      ]
     },
     "execution_count": 7,
     "metadata": {},
     "output_type": "execute_result"
    }
   ],
   "source": [
    "model.evaluate(x_test,y_test)"
   ]
  },
  {
   "cell_type": "code",
   "execution_count": 8,
   "id": "eb575fa9",
   "metadata": {},
   "outputs": [],
   "source": [
    "model.save('cnn_model_v3.keras')"
   ]
  },
  {
   "cell_type": "code",
   "execution_count": 9,
   "id": "91a8de57",
   "metadata": {},
   "outputs": [],
   "source": [
    "loaded_model = tf.keras.models.load_model('cnn_model_v2.keras')"
   ]
  },
  {
   "cell_type": "code",
   "execution_count": 16,
   "id": "90a795b4",
   "metadata": {},
   "outputs": [
    {
     "name": "stdout",
     "output_type": "stream",
     "text": [
      "1/1 [==============================] - 0s 21ms/step\n",
      "[[8.8189438e-05 4.8393099e-07 2.8585601e-03 6.8675327e-01 2.3473352e-01\n",
      "  7.0268966e-02 3.5759925e-03 1.4277815e-03 1.7707518e-04 1.1614558e-04]]\n",
      "Output Label: 3\n",
      "cat\n",
      "[4.]\n"
     ]
    },
    {
     "data": {
      "image/png": "[encoded data removed]",
      "text/plain": [
       "<Figure size 640x480 with 1 Axes>"
      ]
     },
     "metadata": {},
     "output_type": "display_data"
    }
   ],
   "source": [
    "ar = 890\n",
    "plt.imshow(x_test[ar])\n",
    "\n",
    "labels = [\"airplane\",\"automobile\", \"bird\", \"cat\", \"deer\",\"dog\", \"frog\", \"horse\", \"ship\", \"truck\"]\n",
    "import cv2\n",
    "\n",
    "resized_img = cv2.resize(x_test[ar], (32,32))\n",
    "resized_img= np.expand_dims(resized_img, axis=0)\n",
    "\n",
    "pre=loaded_model.predict(resized_img)\n",
    "print(pre)\n",
    "n = np.argmax(pre)                                                     \n",
    "\n",
    "print(\"Output Label:\", n)\n",
    "print(labels[n])\n",
    "print(y_test[ar])"
   ]
  },
  {
   "cell_type": "code",
   "execution_count": null,
   "id": "ebb4763c",
   "metadata": {},
   "outputs": [],
   "source": []
  }
 ],
 "metadata": {
  "kernelspec": {
   "display_name": "Python 3 (ipykernel)",
   "language": "python",
   "name": "python3"
  },
  "language_info": {
   "codemirror_mode": {
    "name": "ipython",
    "version": 3
   },
   "file_extension": ".py",
   "mimetype": "text/x-python",
   "name": "python",
   "nbconvert_exporter": "python",
   "pygments_lexer": "ipython3",
   "version": "3.11.5"
  },
  "varInspector": {
   "cols": {
    "lenName": 16,
    "lenType": 16,
    "lenVar": 40
   },
   "kernels_config": {
    "python": {
     "delete_cmd_postfix": "",
     "delete_cmd_prefix": "del ",
     "library": "var_list.py",
     "varRefreshCmd": "print(var_dic_list())"
    },
    "r": {
     "delete_cmd_postfix": ") ",
     "delete_cmd_prefix": "rm(",
     "library": "var_list.r",
     "varRefreshCmd": "cat(var_dic_list()) "
    }
   },
   "types_to_exclude": [
    "module",
    "function",
    "builtin_function_or_method",
    "instance",
    "_Feature"
   ],
   "window_display": false
  }
 },
 "nbformat": 4,
 "nbformat_minor": 5
}
